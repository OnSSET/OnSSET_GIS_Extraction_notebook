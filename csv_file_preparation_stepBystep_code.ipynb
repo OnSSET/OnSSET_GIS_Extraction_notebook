{
 "cells": [
  {
   "cell_type": "markdown",
   "metadata": {},
   "source": [
    "# GEP-OnSSET GIS-Extraction Notebook for GEP-OnSSET\n",
    "\n",
    "This is the GEP-OnSSET GIS extraction notebook. It replaces the [QGIS plugin](https://github.com/global-electrification-platform/Cluster-based_extraction_OnSSET/tree/master/Plugin) used in the online course.\n",
    "\n",
    "The main purpose of this notebook is to facilitate the change of single datasets without running through the entire plugin. Using this notebook the user will be able to change however many datasets needed.\n",
    "\n",
    "In order to run an OnSSET analysis the following datasets are needed:\n",
    "* Admin boundaries\n",
    "* Elevation\n",
    "* Global horizontal irradiation\n",
    "* Land Cover\n",
    "* Travel time\n",
    "* Wind velocity\n",
    "* Clusters **(these clusters should include: The name of the study area, the amount of nighttime lights, population, population living in areas with nighttime light and an ID column)**. The clusters can be downloaded from [Energydata.info](https://energydata.info/) or generated directly using this [code](https://github.com/global-electrification-platform/Clustering_notebook).\n",
    "\n",
    "In addition to this there are also some optional datasets that can be used in the analysis:\n",
    "* Custom Demand - Can be generated using this [code](https://github.com/global-electrification-platform/CREDIT_layer). Description of the methodology is available [here](https://www.mdpi.com/1996-1073/12/7/1395) has been used.\n",
    "* Substations\n",
    "* Transformers\n",
    "* Existing mini-grids\n",
    "* Adm0 & Adm1 boundary layers\n",
    "* Mini/Small hydro\n",
    "* Existing and planned HV-lines\n",
    "* Existing and planned MV-lines \n",
    "* Road network\n",
    "\n",
    "Below instructions for each cell follows. The cells marked with **(Mandatory)** in the title have to be run."
   ]
  },
  {
   "cell_type": "markdown",
   "metadata": {},
   "source": [
    "### Useful hints and common error messages\n",
    "* Make sure that all input layers are using EPSG:4326 as the coordinate system\n",
    "* Make sure that the \"crs\" in cell 2 is in a coordinate system using meters as the unit\n",
    "* It is often useful to clip all the input layers to the country boundaries in order to reduce processing times\n",
    "* Make sure that each dataset actually has some data within the country boundaries\n",
    "* Some of the datasets require the user to choose values from a dropdown list below\n",
    "* For hydro points and mini-grids, the vector layers need some specific column names to work\n",
    "* In case a dataset still does not work, try opening it in QGIS and run the *Fix geometries* tool and save the new layer.\n",
    "* If things do not work, it may be useful to go to the very top of this Jupyter Notebook and start again from cell 1\n"
   ]
  },
  {
   "cell_type": "markdown",
   "metadata": {},
   "source": [
    "## Cell 1 - Importing necessary packages (Mandatory)\n",
    "\n",
    "Packages to be used are imported from the funcs.ipynb."
   ]
  },
  {
   "cell_type": "code",
   "execution_count": 1,
   "metadata": {},
   "outputs": [],
   "source": [
    "%run funcs.ipynb\n",
    "import time"
   ]
  },
  {
   "cell_type": "markdown",
   "metadata": {},
   "source": [
    "## Cell 2 - Setting the target coordinate system (Mandatory)\n",
    "\n",
    "When calculating distances it is important to choose a coordinate system that represents distances correctly in your area of interst. The coordinate system that is given below is the World Mercator, these coordinate system generally work well, but the distortions get larger as you move away from the equator.\n",
    "\n",
    "In order to select your own coordinate system go to [epsg.io](http://epsg.io/) and type in your area of interest, this will give you a list of coordinate systems to choose from. Once you have selected your coordinate system replace the numbers below with the numbers from your coordinate system **(keep the \"EPSG\" part)**.\n",
    "\n",
    "**NOTE** When selecting your coordinate system make sure that you select a system with the unit of meters, this is indicated for all systems on [epsg.io](http://epsg.io/)"
   ]
  },
  {
   "cell_type": "code",
   "execution_count": 2,
   "metadata": {},
   "outputs": [],
   "source": [
    "crs = 'EPSG:3395'"
   ]
  },
  {
   "cell_type": "markdown",
   "metadata": {},
   "source": [
    "## Cell 3 - Select the workspace and the administrative boundaries (Mandatory)\n",
    "\n",
    "Define the workspace. The output layers will populate this folder. It is highly recommended to select an empty folder as your workspace.\n",
    "\n",
    "For the administrative boundaries you will have to select an **Polygon** layer represeting your area of interest.\n",
    "        "
   ]
  },
  {
   "cell_type": "code",
   "execution_count": 3,
   "metadata": {
    "scrolled": true
   },
   "outputs": [],
   "source": [
    "messagebox.showinfo('OnSSET extraction', 'Output folder')\n",
    "workspace = filedialog.askdirectory()"
   ]
  },
  {
   "cell_type": "code",
   "execution_count": 4,
   "metadata": {},
   "outputs": [],
   "source": [
    "messagebox.showinfo('OnSSET', 'Select the admin boundaries')\n",
    "admin_path = filedialog.askopenfilename(filetypes = ((\"vector\",[\"*.shp\", \"*.gpkg\", \"*.geojson\"]),(\"all files\",\"*.*\")))\n",
    "admin = gpd.read_file(admin_path)"
   ]
  },
  {
   "cell_type": "markdown",
   "metadata": {},
   "source": [
    "## Cell 4 - Select the population clusters (Mandatory)\n",
    "\n",
    "Select the clusters to be used in the analysis\n",
    "\n",
    "Please also indicate which column is representing the population data as this will be used later. "
   ]
  },
  {
   "cell_type": "code",
   "execution_count": 5,
   "metadata": {
    "editable": true,
    "hide_input": true,
    "slideshow": {
     "slide_type": ""
    },
    "tags": [
     "hide_input"
    ]
   },
   "outputs": [
    {
     "name": "stdout",
     "output_type": "stream",
     "text": [
      "Population column: Population\n"
     ]
    }
   ],
   "source": [
    "x, clusters, clusters_path = select_pop_clusters()\n",
    "clusters = clusters[~clusters.geometry.is_empty & clusters.geometry.notnull()].copy()\n",
    "# Fix invalid geometries\n",
    "clusters['geometry'] = clusters['geometry'].buffer(0)"
   ]
  },
  {
   "cell_type": "markdown",
   "metadata": {},
   "source": [
    "## Cell 5 - Select the Global Horizontal Irradiation (GHI) map - Raster map (Mandatory)\n",
    "\n",
    "**If your settlement data already includes GHI data, skip to cell 6. Note however that this dataset is mandatory to run the OnSSET analysis**\n",
    "\n",
    "Select the ghi map that you wish to use in your analysis. This cell will extract the ghi values in your raster map to your clusters."
   ]
  },
  {
   "cell_type": "code",
   "execution_count": null,
   "metadata": {
    "editable": true,
    "slideshow": {
     "slide_type": ""
    },
    "tags": []
   },
   "outputs": [],
   "source": [
    "out, ghi_path = zonal_stats_exact('GHI', clusters, 'mean')\n",
    "if type(out) == gpd.geodataframe.GeoDataFrame:\n",
    "    clusters = out"
   ]
  },
  {
   "cell_type": "markdown",
   "metadata": {
    "collapsed": true,
    "jupyter": {
     "outputs_hidden": true
    }
   },
   "source": [
    "## Cell 6 - Select the Travel Time map - Raster map (Mandatory)\n",
    " \n",
    "**If your settlement data already includes travel time data, skip to cell 7. Note however that this dataset is mandatory to run the OnSSET analysis**\n",
    "\n",
    "Select the travel time map that you wish to use in your analysis. This cell will extract the travel time values in your raster map to your clusters."
   ]
  },
  {
   "cell_type": "code",
   "execution_count": null,
   "metadata": {},
   "outputs": [],
   "source": [
    "out, traveltime_path = zonal_stats_exact('TravelTime', clusters, 'mean')\n",
    "if type(out) == gpd.geodataframe.GeoDataFrame:\n",
    "    clusters = out"
   ]
  },
  {
   "cell_type": "markdown",
   "metadata": {},
   "source": [
    "## Cell 7 - Select the Wind Velocity map - Raster map (Mandatory)\n",
    "\n",
    "**If your settlement data already includes wind velocity data, skip to cell 8. Note however that this dataset is mandatory to run the OnSSET analysis**\n",
    "\n",
    "Select the wind velocity map that you wish to use in your analysis. This cell will extract the wind velocity values in your raster map to your clusters."
   ]
  },
  {
   "cell_type": "code",
   "execution_count": null,
   "metadata": {},
   "outputs": [],
   "source": [
    "out, wind_path = zonal_stats_exact('WindVel', clusters, 'mean')\n",
    "if type(out) == gpd.geodataframe.GeoDataFrame:\n",
    "    clusters = out"
   ]
  },
  {
   "cell_type": "markdown",
   "metadata": {},
   "source": [
    "## Cell 8 - Select the Night Lights map - Raster map (Mandatory)\n",
    "\n",
    "**If your settlement data already includes night lights data, skip to cell 9. Note however that this dataset is mandatory to run the OnSSET analysis**\n",
    "\n",
    "Select the wind velocity map that you wish to use in your analysis. This cell will extract the wind velocity values in your raster map to your clusters."
   ]
  },
  {
   "cell_type": "code",
   "execution_count": null,
   "metadata": {},
   "outputs": [],
   "source": [
    "out, ntl_path = zonal_stats_exact('NightLight', clusters, 'max')\n",
    "if type(out) == gpd.geodataframe.GeoDataFrame:\n",
    "    clusters = out"
   ]
  },
  {
   "cell_type": "markdown",
   "metadata": {},
   "source": [
    "## Cell 9 - Select the Custom Demand OR Demand index layer(s) - Raster map (Optional)\n",
    "\n",
    "This cell may be used to extract the values from a) the Custom Residential Electricity Demand Indicative Target (CREDIT) layer **OR** b) the AHP classification process preceding that. Both options depend on raster layers that can be generated based on available data. \n",
    "\n",
    "You may refer to this [code](https://github.com/global-electrification-platform/CREDIT_layer) for additional information of how to generate these layers. \n",
    "\n",
    "**Note** that we also use two input rasters for urban/rural settlements indicatively. "
   ]
  },
  {
   "cell_type": "code",
   "execution_count": null,
   "metadata": {},
   "outputs": [],
   "source": [
    "out, customdemand_path = zonal_stats_exact('CustomDemand', clusters, 'mean')\n",
    "if type(out) == gpd.geodataframe.GeoDataFrame:\n",
    "    clusters = out"
   ]
  },
  {
   "cell_type": "markdown",
   "metadata": {},
   "source": [
    "## Cell 10 - Preparing to run the vector data (Mandatory)\n",
    "\n",
    "**If you are planning on extracting any vector data (substations, transformers, hydro, MV-lines, HV-lines or roads) run this cell**. \n",
    "\n",
    "This cell reprojects the settlements to the coordinate system you specified above."
   ]
  },
  {
   "cell_type": "code",
   "execution_count": 6,
   "metadata": {},
   "outputs": [
    {
     "name": "stdout",
     "output_type": "stream",
     "text": [
      "Processing finished: 2025-07-30 12:24:30\n"
     ]
    }
   ],
   "source": [
    "clusters = preparing_for_vectors(workspace, clusters, crs)"
   ]
  },
  {
   "cell_type": "markdown",
   "metadata": {},
   "source": [
    "## Cell 11 - Substations - Vector point layer (Optional)\n",
    "\n",
    "**If you do not have substations or wish to keep the ones already in your settlement file, skip to cell 12.**\n",
    "\n",
    "Determines the distances between each settlement point to the closest substation. "
   ]
  },
  {
   "cell_type": "code",
   "execution_count": null,
   "metadata": {},
   "outputs": [],
   "source": [
    "out, substation_path = processing_points(\"Substation\", admin, crs, workspace, clusters, mg_filter=False)\n",
    "if type(out) == gpd.geodataframe.GeoDataFrame:\n",
    "    clusters = out"
   ]
  },
  {
   "cell_type": "markdown",
   "metadata": {},
   "source": [
    "## Cell 12 - Existing high voltage lines - Vector line layer (Optional)\n",
    "\n",
    "**If you do not have existing high voltage lines or wish to keep the ones already in your settlement file, skip to cell 13.**\n",
    "\n",
    "Determines the distances between each settlement point to the closest existing high voltage line. "
   ]
  },
  {
   "cell_type": "code",
   "execution_count": null,
   "metadata": {},
   "outputs": [],
   "source": [
    "out, existing_hv_path = processing_lines(\"Existing_HV\", admin, crs, workspace, clusters)\n",
    "if type(out) == gpd.geodataframe.GeoDataFrame:\n",
    "    clusters = out"
   ]
  },
  {
   "cell_type": "markdown",
   "metadata": {},
   "source": [
    "## Cell 13 - Planned high voltage lines - Vector line layer (Optional)\n",
    "\n",
    "**If you do not have planned high voltage lines or wish to keep the ones already in your settlement file, skip to cell 14.**\n",
    "\n",
    "Determines the distances between each settlement point to the closest planned high voltage line. "
   ]
  },
  {
   "cell_type": "code",
   "execution_count": null,
   "metadata": {},
   "outputs": [],
   "source": [
    "out, planned_hv_path = processing_lines(\"Planned_HV\", admin, crs, workspace, clusters)\n",
    "if type(out) == gpd.geodataframe.GeoDataFrame:\n",
    "    clusters = out"
   ]
  },
  {
   "cell_type": "markdown",
   "metadata": {},
   "source": [
    "## Cell 14 - Existing medium voltage lines - Vector line layer (Optional)\n",
    "\n",
    "**If you do not have existing medium voltage lines or wish to keep the ones already in your settlement file, skip to cell 15.**\n",
    "\n",
    "Determines the distances between each settlement point to the closest existing medium voltage line. "
   ]
  },
  {
   "cell_type": "code",
   "execution_count": null,
   "metadata": {},
   "outputs": [],
   "source": [
    "out, existing_mv_path = processing_lines(\"Existing_MV\", admin, crs, workspace, clusters)\n",
    "if type(out) == gpd.geodataframe.GeoDataFrame:\n",
    "    clusters = out"
   ]
  },
  {
   "cell_type": "markdown",
   "metadata": {},
   "source": [
    "## Cell 15 - Planned medium voltage lines - Vector line layer (Optional)\n",
    "\n",
    "**If you do not have planned medium voltage lines or wish to keep the ones already in your settlement file, skip to cell 16.**\n",
    "\n",
    "Determines the distances between each settlement point to the closest planned medium voltage line. "
   ]
  },
  {
   "cell_type": "code",
   "execution_count": null,
   "metadata": {},
   "outputs": [],
   "source": [
    "out, planned_mv_path = processing_lines(\"Planned_MV\", admin, crs, workspace, clusters)\n",
    "if type(out) == gpd.geodataframe.GeoDataFrame:\n",
    "    clusters = out"
   ]
  },
  {
   "cell_type": "markdown",
   "metadata": {},
   "source": [
    "## Cell 16 - Roads - Vector line layer (Optional)\n",
    "\n",
    "**If you do not have roads or wish to keep the ones already in your settlement file, skip to cell 17.**\n",
    "\n",
    "Determines the distances between each settlement point to the closest road. "
   ]
  },
  {
   "cell_type": "code",
   "execution_count": null,
   "metadata": {},
   "outputs": [],
   "source": [
    "out, roads_path = processing_lines(\"Road\", admin, crs, workspace, clusters)\n",
    "if type(out) == gpd.geodataframe.GeoDataFrame:\n",
    "    clusters = out"
   ]
  },
  {
   "cell_type": "markdown",
   "metadata": {},
   "source": [
    "## Cell 17 - Service/distribution transformers - Vector point layer (Optional)\n",
    "\n",
    "**If you do not have transformers or wish to keep the ones in the already in the settlement file, skip to cell 18** \n",
    "\n",
    "Determines the distances between each settlement point to the closest transformer. "
   ]
  },
  {
   "cell_type": "code",
   "execution_count": null,
   "metadata": {},
   "outputs": [],
   "source": [
    "out, service_transformer_path = processing_points(\"Service Transformer\", admin, crs, workspace, clusters, mg_filter=False)\n",
    "if type(out) == gpd.geodataframe.GeoDataFrame:\n",
    "    clusters = out"
   ]
  },
  {
   "cell_type": "markdown",
   "metadata": {},
   "source": [
    "## Cell 18 - Hydro points - Vector point layer (Optional)\n",
    "\n",
    "**If you do not have new hydro power points skip to next step\n",
    "\n",
    "Select the hydro point layer you wish to use. It is important to have a column representing the power output for each hydro point in your dataset. After selecting the column you will also have to select the unit (W, kW or MW) of that column. "
   ]
  },
  {
   "cell_type": "code",
   "execution_count": 7,
   "metadata": {},
   "outputs": [
    {
     "name": "stdout",
     "output_type": "stream",
     "text": [
      "PQ50_MW\n",
      "MW\n",
      "Processing finished: 2025-07-30 12:26:17\n"
     ]
    }
   ],
   "source": [
    "out, hydro_path = hydro(admin, crs, workspace, clusters)\n",
    "if type(out) == gpd.geodataframe.GeoDataFrame:\n",
    "    clusters = out"
   ]
  },
  {
   "cell_type": "markdown",
   "metadata": {},
   "source": [
    "# Extra datasets that can be used to improve the analysis"
   ]
  },
  {
   "cell_type": "markdown",
   "metadata": {},
   "source": [
    "## Cell 19 - Existing mini-grids - Vector point layer (Optional extra)\n",
    "\n",
    "This function extracts the nearest mini-grid to each clusters and assigns key characteristics (e.g. name, MV network status, type)."
   ]
  },
  {
   "cell_type": "code",
   "execution_count": null,
   "metadata": {},
   "outputs": [],
   "source": [
    "out, mg_path = processing_points(\"MiniGrid\", admin, crs, workspace, clusters, mg_filter=True)\n",
    "if type(out) == gpd.geodataframe.GeoDataFrame:\n",
    "    clusters = out"
   ]
  },
  {
   "cell_type": "markdown",
   "metadata": {},
   "source": [
    "## Cell 20 - Extracting admin 1 name to clusters - Vector polygon layer (Optional extra)\n",
    "\n",
    "This function extracts the admin level 1 (e.g. Province, State) name to each cluster based on spatial overlay. \n",
    "\n",
    "**Please do provide the right column name (e.g. \"adm1_name\") in the pop-up window**"
   ]
  },
  {
   "cell_type": "code",
   "execution_count": null,
   "metadata": {},
   "outputs": [],
   "source": [
    "out, admin_1_path = admin_1(\"Admin_1\", admin, crs, workspace, clusters)\n",
    "if type(out) == gpd.geodataframe.GeoDataFrame:\n",
    "    clusters = out"
   ]
  },
  {
   "cell_type": "markdown",
   "metadata": {},
   "source": [
    "## Cell 21 - Conditioning & Export (Mandatory)\n",
    "\n",
    "This is the final cell in the extraction. This cell has to be run."
   ]
  },
  {
   "cell_type": "code",
   "execution_count": null,
   "metadata": {},
   "outputs": [],
   "source": [
    "clusters = conditioning(clusters, workspace, x)\n",
    "print('Workspace: ', workspace)"
   ]
  },
  {
   "cell_type": "code",
   "execution_count": null,
   "metadata": {},
   "outputs": [],
   "source": []
  }
 ],
 "metadata": {
  "celltoolbar": "Raw Cell Format",
  "kernelspec": {
   "display_name": "Python 3 (ipykernel)",
   "language": "python",
   "name": "python3"
  },
  "language_info": {
   "codemirror_mode": {
    "name": "ipython",
    "version": 3
   },
   "file_extension": ".py",
   "mimetype": "text/x-python",
   "name": "python",
   "nbconvert_exporter": "python",
   "pygments_lexer": "ipython3",
   "version": "3.12.11"
  }
 },
 "nbformat": 4,
 "nbformat_minor": 4
}
